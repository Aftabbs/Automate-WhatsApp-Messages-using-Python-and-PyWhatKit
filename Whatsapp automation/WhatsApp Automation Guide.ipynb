{
 "cells": [
  {
   "cell_type": "markdown",
   "id": "5ae18ff8",
   "metadata": {},
   "source": [
    "# Unlocking the Power of PyWhatKit: WhatsApp Automation Guide"
   ]
  },
  {
   "cell_type": "markdown",
   "id": "eec38f55",
   "metadata": {},
   "source": [
    "# PyWhatKit:\n",
    "It is a Python Library for scheduling and sending WhatsApp messages with various other functions like playing a video on YouTube, Converting an image to ASCII art, Converting a string to an image with Hand Written Characters etc."
   ]
  },
  {
   "cell_type": "raw",
   "id": "f832a3da",
   "metadata": {},
   "source": [
    "To install \n",
    "!pip install pywhatkit"
   ]
  },
  {
   "cell_type": "code",
   "execution_count": 2,
   "id": "7a1f2393",
   "metadata": {},
   "outputs": [
    {
     "name": "stdout",
     "output_type": "stream",
     "text": [
      "Name: pywhatkit\n",
      "Version: 3.1\n",
      "Summary: pywhatkit is a Python library for Sending whatsapp message at certain time, it has several other features too.\n",
      "Home-page: https://github.com/Ankit404butfound/awesomepy\n",
      "Author: Ankit Raj Mahapatra\n",
      "Author-email: ankitrajjitendra816@gmail.com\n",
      "License: MIT\n",
      "Location: c:\\users\\admin\\appdata\\roaming\\python\\python39\\site-packages\n",
      "Requires: beautifulsoup4, numpy, Pillow, pyautogui, requests, wikipedia\n",
      "Required-by: \n"
     ]
    }
   ],
   "source": [
    "!pip show pywhatkit"
   ]
  },
  {
   "cell_type": "code",
   "execution_count": 3,
   "id": "428987df",
   "metadata": {},
   "outputs": [
    {
     "name": "stdout",
     "output_type": "stream",
     "text": [
      "Name: Jinja2\n",
      "Version: 3.1.2\n",
      "Summary: A very fast and expressive template engine.\n",
      "Home-page: https://palletsprojects.com/p/jinja/\n",
      "Author: Armin Ronacher\n",
      "Author-email: armin.ronacher@active-4.com\n",
      "License: BSD-3-Clause\n",
      "Location: c:\\users\\admin\\appdata\\roaming\\python\\python39\\site-packages\n",
      "Requires: MarkupSafe\n",
      "Required-by: altair, anaconda-project, bokeh, conda-build, conda-verify, cookiecutter, distributed, Flask, intake, jinja2-time, jupyter-server, jupyterlab, jupyterlab-server, mlflow, nbconvert, notebook, numpydoc, pandas-profiling, pydeck, pyLDAvis, spacy, Sphinx, torch\n"
     ]
    }
   ],
   "source": [
    "!pip show Jinja2\n",
    "# Supportin library for pywat kit"
   ]
  },
  {
   "cell_type": "markdown",
   "id": "8189fa84",
   "metadata": {},
   "source": [
    "you can face error wile importin , like ,\n",
    "ImportError: cannot import name 'escape' from 'jinja2' (C:\\Users\\Admin\\AppData\\Roaming\\Python\\Python39\\site-packages\\jinja2\\__init__.py)\n",
    "to fix it use below commands , Jinja latest version in 3.1 and pywhatkit latest verion is 5.1 , we will use both libraries 3.1 version "
   ]
  },
  {
   "cell_type": "raw",
   "id": "788aaa8b",
   "metadata": {},
   "source": [
    "!pip install pywhatkit==3.1"
   ]
  },
  {
   "cell_type": "code",
   "execution_count": 1,
   "id": "2b572681",
   "metadata": {
    "scrolled": true
   },
   "outputs": [
    {
     "name": "stdout",
     "output_type": "stream",
     "text": [
      "Hello from the creator of pywhatkit, Ankit Raj Mahapatra.\n",
      "Kindly do report bugs if any\n",
      "What's new:\n",
      "1. Removed selenium dependent functions\n",
      "2. Added pywhatkit.text_to_handwriting() which will convert text to handwritten characters.\n",
      "3. Added pywhatkit.image_to_ascii_art() which will convert image to ascii art.\n"
     ]
    }
   ],
   "source": [
    "import pywhatkit"
   ]
  },
  {
   "cell_type": "markdown",
   "id": "f93a0124",
   "metadata": {},
   "source": [
    "### Use below Commands "
   ]
  },
  {
   "cell_type": "code",
   "execution_count": null,
   "id": "89c61fd0",
   "metadata": {},
   "outputs": [],
   "source": [
    "import pywhatkit\n",
    "\n",
    "# Send a WhatsApp Message to a Contact at 1:30 PM\n",
    "pywhatkit.sendwhatmsg(\"+910123456789\", \"Hi\", 13, 30)\n",
    "\n",
    "# Same as above but Closes the Tab in 2 Seconds after Sending the Message\n",
    "pywhatkit.sendwhatmsg(\"+910123456789\", \"Hi\", 13, 30, 15, True, 2)\n",
    "\n",
    "# Send an Image to a Group with the Caption as Hello\n",
    "pywhatkit.sendwhats_image(\"AB123CDEFGHijklmn\", \"Images/Hello.png\", \"Hello\")\n",
    "\n",
    "# Send an Image to a Contact with the no Caption\n",
    "pywhatkit.sendwhats_image(\"+910123456789\", \"Images/Hello.png\")\n",
    "\n",
    "# Send a WhatsApp Message to a Group at 12:00 AM\n",
    "pywhatkit.sendwhatmsg_to_group(\"AB123CDEFGHijklmn\", \"Hey All!\", 0, 0)\n",
    "\n",
    "# Send a WhatsApp Message to a Group instantly\n",
    "pywhatkit.sendwhatmsg_to_group_instantly(\"AB123CDEFGHijklmn\", \"Hey All!\")\n",
    "\n",
    "# Play a Video on YouTube\n",
    "pywhatkit.playonyt(\"PyWhatKit\")"
   ]
  }
 ],
 "metadata": {
  "kernelspec": {
   "display_name": "Python 3 (ipykernel)",
   "language": "python",
   "name": "python3"
  },
  "language_info": {
   "codemirror_mode": {
    "name": "ipython",
    "version": 3
   },
   "file_extension": ".py",
   "mimetype": "text/x-python",
   "name": "python",
   "nbconvert_exporter": "python",
   "pygments_lexer": "ipython3",
   "version": "3.9.12"
  }
 },
 "nbformat": 4,
 "nbformat_minor": 5
}
